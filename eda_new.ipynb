{
 "cells": [
  {
   "cell_type": "code",
   "execution_count": 1,
   "metadata": {},
   "outputs": [],
   "source": [
    "import pandas as pd\n",
    "import numpy as np\n",
    "from matplotlib import pyplot as plt"
   ]
  },
  {
   "cell_type": "code",
   "execution_count": 2,
   "metadata": {},
   "outputs": [
    {
     "name": "stdout",
     "output_type": "stream",
     "text": [
      "(125938, 10)\n"
     ]
    }
   ],
   "source": [
    "d1 = pd.read_csv('D:/tele2_data_hack/email_reports.csv')\n",
    "print(d1.shape)"
   ]
  },
  {
   "cell_type": "code",
   "execution_count": 3,
   "metadata": {},
   "outputs": [
    {
     "data": {
      "text/html": [
       "<div>\n",
       "<style scoped>\n",
       "    .dataframe tbody tr th:only-of-type {\n",
       "        vertical-align: middle;\n",
       "    }\n",
       "\n",
       "    .dataframe tbody tr th {\n",
       "        vertical-align: top;\n",
       "    }\n",
       "\n",
       "    .dataframe thead th {\n",
       "        text-align: right;\n",
       "    }\n",
       "</style>\n",
       "<table border=\"1\" class=\"dataframe\">\n",
       "  <thead>\n",
       "    <tr style=\"text-align: right;\">\n",
       "      <th></th>\n",
       "      <th>SENDER_ID</th>\n",
       "      <th>SENDER_EMAIL</th>\n",
       "      <th>OPERATOR_ID</th>\n",
       "      <th>ACCEPTOR</th>\n",
       "      <th>SUBJECT</th>\n",
       "      <th>To.queue.time</th>\n",
       "      <th>agent.receive.time</th>\n",
       "      <th>treatment.end.time</th>\n",
       "      <th>CONTENT</th>\n",
       "      <th>ANSWERTEXT</th>\n",
       "    </tr>\n",
       "  </thead>\n",
       "  <tbody>\n",
       "    <tr>\n",
       "      <th>0</th>\n",
       "      <td>token_7747</td>\n",
       "      <td>xxxx@yandex.ru</td>\n",
       "      <td>token_48</td>\n",
       "      <td>spb.vopros@tele2.ru</td>\n",
       "      <td>Обратная связь</td>\n",
       "      <td>2088-06-17 02:31:32</td>\n",
       "      <td>2088-06-18 19:48:26</td>\n",
       "      <td>2088-06-18 20:24:59</td>\n",
       "      <td>Тело письма\\r\\n\\r\\nMSISDN: +xxx xxx xx xx\\r\\nО...</td>\n",
       "      <td>\\r\\n\\r\\nЗдравствуйте, xxxxx xxxxx xxxxx!\\r\\n\\r...</td>\n",
       "    </tr>\n",
       "    <tr>\n",
       "      <th>1</th>\n",
       "      <td>token_14226</td>\n",
       "      <td>xxxx@mail.ru</td>\n",
       "      <td>token_50</td>\n",
       "      <td>Saransk.Vopros@tele2.ru</td>\n",
       "      <td>Re[2]: Обратная связь</td>\n",
       "      <td>2088-06-17 02:31:52</td>\n",
       "      <td>2088-06-18 18:43:45</td>\n",
       "      <td>2088-06-18 18:58:43</td>\n",
       "      <td>\\r\\nвся необходимая информация отображена в ...</td>\n",
       "      <td>Здравствуйте, xxxxx xxxxx xxxxx!\\r\\nБлагодарим...</td>\n",
       "    </tr>\n",
       "    <tr>\n",
       "      <th>2</th>\n",
       "      <td>token_23942</td>\n",
       "      <td>xxxx@mail.ru</td>\n",
       "      <td>token_3</td>\n",
       "      <td>rostov.vopros@tele2.ru</td>\n",
       "      <td>Обратная связь</td>\n",
       "      <td>2088-06-17 02:33:14</td>\n",
       "      <td>2088-06-18 18:43:45</td>\n",
       "      <td>2088-06-18 18:47:06</td>\n",
       "      <td>Тело письма\\r\\n\\r\\nMSISDN: +xxx xxx xx xx\\r\\nО...</td>\n",
       "      <td>\\r\\n\\r\\nЗдравствуйте, xxxxx xxxxx xxxxx!\\r\\nБл...</td>\n",
       "    </tr>\n",
       "    <tr>\n",
       "      <th>3</th>\n",
       "      <td>token_18368</td>\n",
       "      <td>xxxx@mail.ru</td>\n",
       "      <td>token_53</td>\n",
       "      <td>krasnodar.vopros@tele2.ru</td>\n",
       "      <td>Обратная связь</td>\n",
       "      <td>2088-06-17 02:33:36</td>\n",
       "      <td>2088-06-18 19:49:10</td>\n",
       "      <td>2088-06-18 19:53:57</td>\n",
       "      <td>Тело письма\\r\\n\\r\\nMSISDN: +xxx xxx xx xx\\r\\nО...</td>\n",
       "      <td>\\r\\n\\r\\nЗдравствуйте, xxxxx xxxxx xxxxx! ¦\\r\\n...</td>\n",
       "    </tr>\n",
       "    <tr>\n",
       "      <th>4</th>\n",
       "      <td>token_21039</td>\n",
       "      <td>xxxx@mail.ru</td>\n",
       "      <td>token_34</td>\n",
       "      <td>kostroma.vopros@tele2.ru</td>\n",
       "      <td>Обратная связь</td>\n",
       "      <td>2088-06-17 02:33:56</td>\n",
       "      <td>2088-06-18 19:49:17</td>\n",
       "      <td>2088-06-18 19:59:48</td>\n",
       "      <td>Тело письма\\r\\n\\r\\nОтметьте, в каком регионе В...</td>\n",
       "      <td>\\r\\n\\r\\nАлександр, доброго времени суток! ;)\\r...</td>\n",
       "    </tr>\n",
       "  </tbody>\n",
       "</table>\n",
       "</div>"
      ],
      "text/plain": [
       "     SENDER_ID    SENDER_EMAIL OPERATOR_ID                   ACCEPTOR  \\\n",
       "0   token_7747  xxxx@yandex.ru    token_48        spb.vopros@tele2.ru   \n",
       "1  token_14226    xxxx@mail.ru    token_50    Saransk.Vopros@tele2.ru   \n",
       "2  token_23942    xxxx@mail.ru     token_3     rostov.vopros@tele2.ru   \n",
       "3  token_18368    xxxx@mail.ru    token_53  krasnodar.vopros@tele2.ru   \n",
       "4  token_21039    xxxx@mail.ru    token_34   kostroma.vopros@tele2.ru   \n",
       "\n",
       "                 SUBJECT        To.queue.time   agent.receive.time  \\\n",
       "0         Обратная связь  2088-06-17 02:31:32  2088-06-18 19:48:26   \n",
       "1  Re[2]: Обратная связь  2088-06-17 02:31:52  2088-06-18 18:43:45   \n",
       "2         Обратная связь  2088-06-17 02:33:14  2088-06-18 18:43:45   \n",
       "3         Обратная связь  2088-06-17 02:33:36  2088-06-18 19:49:10   \n",
       "4         Обратная связь  2088-06-17 02:33:56  2088-06-18 19:49:17   \n",
       "\n",
       "    treatment.end.time                                            CONTENT  \\\n",
       "0  2088-06-18 20:24:59  Тело письма\\r\\n\\r\\nMSISDN: +xxx xxx xx xx\\r\\nО...   \n",
       "1  2088-06-18 18:58:43    \\r\\nвся необходимая информация отображена в ...   \n",
       "2  2088-06-18 18:47:06  Тело письма\\r\\n\\r\\nMSISDN: +xxx xxx xx xx\\r\\nО...   \n",
       "3  2088-06-18 19:53:57  Тело письма\\r\\n\\r\\nMSISDN: +xxx xxx xx xx\\r\\nО...   \n",
       "4  2088-06-18 19:59:48  Тело письма\\r\\n\\r\\nОтметьте, в каком регионе В...   \n",
       "\n",
       "                                          ANSWERTEXT  \n",
       "0  \\r\\n\\r\\nЗдравствуйте, xxxxx xxxxx xxxxx!\\r\\n\\r...  \n",
       "1  Здравствуйте, xxxxx xxxxx xxxxx!\\r\\nБлагодарим...  \n",
       "2  \\r\\n\\r\\nЗдравствуйте, xxxxx xxxxx xxxxx!\\r\\nБл...  \n",
       "3  \\r\\n\\r\\nЗдравствуйте, xxxxx xxxxx xxxxx! ¦\\r\\n...  \n",
       "4  \\r\\n\\r\\nАлександр, доброго времени суток! ;)\\r...  "
      ]
     },
     "execution_count": 3,
     "metadata": {},
     "output_type": "execute_result"
    }
   ],
   "source": [
    "d1.head()"
   ]
  },
  {
   "cell_type": "code",
   "execution_count": 4,
   "metadata": {},
   "outputs": [
    {
     "data": {
      "text/plain": [
       "44289"
      ]
     },
     "execution_count": 4,
     "metadata": {},
     "output_type": "execute_result"
    }
   ],
   "source": [
    "len(set(d1['SENDER_ID']))"
   ]
  },
  {
   "cell_type": "markdown",
   "metadata": {},
   "source": [
    "### number of emails "
   ]
  },
  {
   "cell_type": "code",
   "execution_count": 5,
   "metadata": {},
   "outputs": [],
   "source": [
    "temp = d1[['SENDER_ID','SENDER_EMAIL']].groupby('SENDER_ID').agg('count').reset_index()"
   ]
  },
  {
   "cell_type": "code",
   "execution_count": 6,
   "metadata": {},
   "outputs": [
    {
     "data": {
      "text/plain": [
       "(array([   1,    2,    3,    4,    5,    6,    7,    8,    9,   10,   11,\n",
       "          12,   13,   14,   15,   16,   17,   18,   19,   20,   21,   22,\n",
       "          23,   25,   26,   27,   29,   30,   31,   32,   34,   37,   40,\n",
       "          41,   43,   45,   48,   56,   61,   63,   69,  137,  143,  173,\n",
       "         174,  205,  293,  447,  450,  555,  583,  712,  794,  825,  878,\n",
       "        1799, 2038, 2797, 5795], dtype=int64),\n",
       " array([14977,  7122, 16235,  3880,  1199,   416,   166,    96,    34,\n",
       "           17,    18,    17,    13,    13,     4,     6,     8,     9,\n",
       "            5,     3,     3,     4,     1,     2,     4,     2,     1,\n",
       "            2,     1,     1,     1,     2,     1,     1,     1,     1,\n",
       "            1,     1,     1,     1,     1,     1,     1,     1,     1,\n",
       "            1,     1,     1,     1,     1,     1,     1,     1,     1,\n",
       "            1,     1,     1,     1,     1], dtype=int64))"
      ]
     },
     "execution_count": 6,
     "metadata": {},
     "output_type": "execute_result"
    }
   ],
   "source": [
    "np.unique(temp['SENDER_EMAIL'], return_counts=True)"
   ]
  },
  {
   "cell_type": "markdown",
   "metadata": {},
   "source": [
    "# determine fraction of each problem "
   ]
  },
  {
   "cell_type": "code",
   "execution_count": 7,
   "metadata": {},
   "outputs": [
    {
     "name": "stdout",
     "output_type": "stream",
     "text": [
      "(125938, 10)\n",
      "(102898, 10)\n"
     ]
    }
   ],
   "source": [
    "print(d1.shape)\n",
    "d1 = d1[d1['CONTENT'].apply(lambda x: 'Тело письма' in str(x))].reset_index(drop=True)\n",
    "print(d1.shape)"
   ]
  },
  {
   "cell_type": "code",
   "execution_count": 8,
   "metadata": {},
   "outputs": [],
   "source": [
    "def get_topic(x):\n",
    "    ret = ''\n",
    "    try:\n",
    "        ret = x.split('Выберите тему обращения: ')[1].split('\\r')[0]\n",
    "    except:\n",
    "        pass\n",
    "    return ret\n",
    "\n",
    "def get_question(x):\n",
    "    ret = ''\n",
    "    try:\n",
    "        ret = x.split('Выберите тему обращения: ')[1].split('\\r')[1].split('\\nЗадайте ваш вопрос или опишите проблему: ')[1]\n",
    "    except:\n",
    "        pass\n",
    "    return ret\n",
    "\n",
    "\n",
    "d1['topic'] = d1['CONTENT'].apply(lambda x: get_topic(x))\n",
    "d1['question'] = d1['CONTENT'].apply(lambda x: get_question(x))"
   ]
  },
  {
   "cell_type": "code",
   "execution_count": 39,
   "metadata": {},
   "outputs": [],
   "source": [
    "temp = d1[['topic','CONTENT']].groupby('topic').agg('count').reset_index()\n",
    "num_q = np.sum(temp['CONTENT'])"
   ]
  },
  {
   "cell_type": "code",
   "execution_count": 40,
   "metadata": {},
   "outputs": [],
   "source": [
    "temp = temp[temp['CONTENT']>1200].reset_index(drop=True)"
   ]
  },
  {
   "cell_type": "code",
   "execution_count": 51,
   "metadata": {},
   "outputs": [
    {
     "name": "stdout",
     "output_type": "stream",
     "text": [
      "97.50335283484615\n"
     ]
    }
   ],
   "source": [
    "temp['CONTENT_prc'] = temp['CONTENT'] / num_q * 100\n",
    "print(np.sum(temp['CONTENT_prc']))"
   ]
  },
  {
   "cell_type": "code",
   "execution_count": 42,
   "metadata": {},
   "outputs": [
    {
     "data": {
      "text/html": [
       "<div>\n",
       "<style scoped>\n",
       "    .dataframe tbody tr th:only-of-type {\n",
       "        vertical-align: middle;\n",
       "    }\n",
       "\n",
       "    .dataframe tbody tr th {\n",
       "        vertical-align: top;\n",
       "    }\n",
       "\n",
       "    .dataframe thead th {\n",
       "        text-align: right;\n",
       "    }\n",
       "</style>\n",
       "<table border=\"1\" class=\"dataframe\">\n",
       "  <thead>\n",
       "    <tr style=\"text-align: right;\">\n",
       "      <th></th>\n",
       "      <th>topic</th>\n",
       "      <th>CONTENT</th>\n",
       "      <th>CONTENT_prc</th>\n",
       "    </tr>\n",
       "  </thead>\n",
       "  <tbody>\n",
       "    <tr>\n",
       "      <th>8</th>\n",
       "      <td>прочее</td>\n",
       "      <td>24434</td>\n",
       "      <td>23.745845</td>\n",
       "    </tr>\n",
       "    <tr>\n",
       "      <th>10</th>\n",
       "      <td>тарифыИУслуги</td>\n",
       "      <td>18770</td>\n",
       "      <td>18.241365</td>\n",
       "    </tr>\n",
       "    <tr>\n",
       "      <th>3</th>\n",
       "      <td>мобильныйИнтернет</td>\n",
       "      <td>15918</td>\n",
       "      <td>15.469688</td>\n",
       "    </tr>\n",
       "    <tr>\n",
       "      <th>6</th>\n",
       "      <td>подключенныеУслуги</td>\n",
       "      <td>9112</td>\n",
       "      <td>8.855371</td>\n",
       "    </tr>\n",
       "    <tr>\n",
       "      <th>2</th>\n",
       "      <td>личныйКабинет</td>\n",
       "      <td>7379</td>\n",
       "      <td>7.171179</td>\n",
       "    </tr>\n",
       "    <tr>\n",
       "      <th>9</th>\n",
       "      <td>роумингИЗонаОбслуживания</td>\n",
       "      <td>6732</td>\n",
       "      <td>6.542401</td>\n",
       "    </tr>\n",
       "    <tr>\n",
       "      <th>7</th>\n",
       "      <td>поступлениеПлатежейОшибочныеПлатежи</td>\n",
       "      <td>6045</td>\n",
       "      <td>5.874750</td>\n",
       "    </tr>\n",
       "    <tr>\n",
       "      <th>1</th>\n",
       "      <td>детализацияСчётаИлиЗвонков</td>\n",
       "      <td>5474</td>\n",
       "      <td>5.319831</td>\n",
       "    </tr>\n",
       "    <tr>\n",
       "      <th>0</th>\n",
       "      <td>блокировкаИРазблокировкаSimКарты</td>\n",
       "      <td>2412</td>\n",
       "      <td>2.344069</td>\n",
       "    </tr>\n",
       "    <tr>\n",
       "      <th>5</th>\n",
       "      <td>подключениеКTele2</td>\n",
       "      <td>2398</td>\n",
       "      <td>2.330463</td>\n",
       "    </tr>\n",
       "    <tr>\n",
       "      <th>4</th>\n",
       "      <td>переносНомераВTele2</td>\n",
       "      <td>1655</td>\n",
       "      <td>1.608389</td>\n",
       "    </tr>\n",
       "  </tbody>\n",
       "</table>\n",
       "</div>"
      ],
      "text/plain": [
       "                                  topic  CONTENT  CONTENT_prc\n",
       "8                                прочее    24434    23.745845\n",
       "10                        тарифыИУслуги    18770    18.241365\n",
       "3                     мобильныйИнтернет    15918    15.469688\n",
       "6                    подключенныеУслуги     9112     8.855371\n",
       "2                         личныйКабинет     7379     7.171179\n",
       "9              роумингИЗонаОбслуживания     6732     6.542401\n",
       "7   поступлениеПлатежейОшибочныеПлатежи     6045     5.874750\n",
       "1            детализацияСчётаИлиЗвонков     5474     5.319831\n",
       "0      блокировкаИРазблокировкаSimКарты     2412     2.344069\n",
       "5                     подключениеКTele2     2398     2.330463\n",
       "4                   переносНомераВTele2     1655     1.608389"
      ]
     },
     "execution_count": 42,
     "metadata": {},
     "output_type": "execute_result"
    }
   ],
   "source": [
    "temp.sort_values(by='CONTENT_prc', ascending=False)"
   ]
  },
  {
   "cell_type": "code",
   "execution_count": 50,
   "metadata": {},
   "outputs": [
    {
     "data": {
      "image/png": "[encoded data removed]",
      "text/plain": [
       "<Figure size 864x864 with 1 Axes>"
      ]
     },
     "metadata": {},
     "output_type": "display_data"
    }
   ],
   "source": [
    "temp.set_index('topic')['CONTENT'].plot(kind='pie', subplots=True, figsize=(12, 12))\n",
    "plt.show()"
   ]
  },
  {
   "cell_type": "code",
   "execution_count": null,
   "metadata": {},
   "outputs": [],
   "source": []
  },
  {
   "cell_type": "code",
   "execution_count": null,
   "metadata": {},
   "outputs": [],
   "source": []
  },
  {
   "cell_type": "code",
   "execution_count": null,
   "metadata": {},
   "outputs": [],
   "source": []
  },
  {
   "cell_type": "code",
   "execution_count": null,
   "metadata": {},
   "outputs": [],
   "source": [
    "print(temp['CONTENT'][4200])"
   ]
  },
  {
   "cell_type": "code",
   "execution_count": null,
   "metadata": {},
   "outputs": [],
   "source": [
    "print(temp['ANSWERTEXT'][4200])"
   ]
  },
  {
   "cell_type": "code",
   "execution_count": null,
   "metadata": {},
   "outputs": [],
   "source": []
  },
  {
   "cell_type": "code",
   "execution_count": null,
   "metadata": {},
   "outputs": [],
   "source": []
  },
  {
   "cell_type": "code",
   "execution_count": null,
   "metadata": {},
   "outputs": [],
   "source": [
    "temp = d1[['appeal_id','client_id','text']].groupby(['appeal_id','client_id'])['text'].apply(list)\n",
    "temp = pd.DataFrame(temp).reset_index(drop=True)"
   ]
  },
  {
   "cell_type": "code",
   "execution_count": null,
   "metadata": {},
   "outputs": [],
   "source": [
    "temp['text'] = temp['text'].apply(lambda x: [str(x) for x in x])\n",
    "temp['text'] = temp['text'].apply(lambda x: x[0:2])\n",
    "temp['text'] = temp['text'].apply(lambda x: ' '.join(x))"
   ]
  },
  {
   "cell_type": "code",
   "execution_count": null,
   "metadata": {},
   "outputs": [],
   "source": [
    "temp.shape"
   ]
  },
  {
   "cell_type": "code",
   "execution_count": null,
   "metadata": {},
   "outputs": [],
   "source": [
    "temp.head()"
   ]
  },
  {
   "cell_type": "code",
   "execution_count": null,
   "metadata": {},
   "outputs": [],
   "source": [
    "temp.iloc[92]['text']"
   ]
  }
 ],
 "metadata": {
  "kernelspec": {
   "display_name": "Python 3",
   "language": "python",
   "name": "python3"
  },
  "language_info": {
   "codemirror_mode": {
    "name": "ipython",
    "version": 3
   },
   "file_extension": ".py",
   "mimetype": "text/x-python",
   "name": "python",
   "nbconvert_exporter": "python",
   "pygments_lexer": "ipython3",
   "version": "3.5.5"
  }
 },
 "nbformat": 4,
 "nbformat_minor": 2
}
